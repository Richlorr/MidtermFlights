{
 "cells": [
  {
   "cell_type": "markdown",
   "metadata": {},
   "source": [
    "## Exploratory Data Analysis\n",
    "\n",
    "Use this notebook to get familiar with the datasets we have. There is 10 questions we need to answer during the EDA.\n",
    "\n",
    "\n",
    "We shouldn't limit our EDA to these 10 questions. Let's be creative :)."
   ]
  },
  {
   "cell_type": "code",
   "execution_count": 2,
   "metadata": {},
   "outputs": [],
   "source": [
    "import numpy as np\n",
    "import pandas as pd\n",
    "from datetime import datetime as dt\n",
    "from scipy import stats\n",
    "import seaborn as sns\n",
    "import matplotlib.pyplot as plt\n",
    "import psycopg2"
   ]
  },
  {
   "cell_type": "code",
   "execution_count": 18,
   "metadata": {},
   "outputs": [
    {
     "name": "stdout",
     "output_type": "stream",
     "text": [
      "Connection was successful\n"
     ]
    },
    {
     "data": {
      "text/plain": [
       "(<connection object at 0x000001F605268708; dsn: 'user=lhl_student password=xxx dbname=mid_term_project host=mid-term-project.ca2jkepgjpne.us-east-2.rds.amazonaws.com port=5432', closed: 0>,\n",
       " <cursor object at 0x000001F605B61AC8; closed: 0>)"
      ]
     },
     "execution_count": 18,
     "metadata": {},
     "output_type": "execute_result"
    }
   ],
   "source": [
    "params = {'user' : 'lhl_student',\n",
    "          'password' : 'lhl_student',\n",
    "          'host' : 'mid-term-project.ca2jkepgjpne.us-east-2.rds.amazonaws.com',\n",
    "          'port' : '5432',\n",
    "          'database' : 'mid_term_project'\n",
    "         }\n",
    "\n",
    "def open_connection(params):\n",
    "    try:\n",
    "        connection = psycopg2.connect(**params)\n",
    "        cursor = connection.cursor()\n",
    "        print(\"Connection was successful\")\n",
    "    except psycopg2.Error as e:\n",
    "        print(f\"The following error '{e}' occurred.\")\n",
    "        \n",
    "    return connection, cursor\n",
    "open_connection(params)"
   ]
  },
  {
   "cell_type": "code",
   "execution_count": 19,
   "metadata": {},
   "outputs": [
    {
     "name": "stdout",
     "output_type": "stream",
     "text": [
      "Connection was successful\n"
     ]
    }
   ],
   "source": [
    "connection, cursor = open_connection(params)\n",
    "\n",
    "query1 = 'SELECT * FROM flights LIMIT 1500;'\n",
    "query2 = \"SELECT column_name FROM information_schema.columns WHERE TABLE_NAME = 'flights';\"\n",
    "\n",
    "cursor.execute(query1)\n",
    "data = cursor.fetchall()\n",
    "\n",
    "cursor.execute(query2)\n",
    "columns = cursor.fetchall()\n",
    "\n",
    "connection.close()"
   ]
  },
  {
   "cell_type": "code",
   "execution_count": 20,
   "metadata": {},
   "outputs": [
    {
     "data": {
      "text/plain": [
       "['fl_date',\n",
       " 'mkt_unique_carrier',\n",
       " 'branded_code_share',\n",
       " 'mkt_carrier',\n",
       " 'mkt_carrier_fl_num',\n",
       " 'op_unique_carrier',\n",
       " 'tail_num',\n",
       " 'op_carrier_fl_num',\n",
       " 'origin_airport_id',\n",
       " 'origin',\n",
       " 'origin_city_name',\n",
       " 'dest_airport_id',\n",
       " 'dest',\n",
       " 'dest_city_name',\n",
       " 'crs_dep_time',\n",
       " 'dep_time',\n",
       " 'dep_delay',\n",
       " 'taxi_out',\n",
       " 'wheels_off',\n",
       " 'wheels_on',\n",
       " 'taxi_in',\n",
       " 'crs_arr_time',\n",
       " 'arr_time',\n",
       " 'arr_delay',\n",
       " 'cancelled',\n",
       " 'cancellation_code',\n",
       " 'diverted',\n",
       " 'dup',\n",
       " 'crs_elapsed_time',\n",
       " 'actual_elapsed_time',\n",
       " 'air_time',\n",
       " 'flights',\n",
       " 'distance',\n",
       " 'carrier_delay',\n",
       " 'weather_delay',\n",
       " 'nas_delay',\n",
       " 'security_delay',\n",
       " 'late_aircraft_delay',\n",
       " 'first_dep_time',\n",
       " 'total_add_gtime',\n",
       " 'longest_add_gtime',\n",
       " 'no_name']"
      ]
     },
     "execution_count": 20,
     "metadata": {},
     "output_type": "execute_result"
    }
   ],
   "source": [
    "columns = [col[0] for col in columns]\n",
    "columns"
   ]
  },
  {
   "cell_type": "code",
   "execution_count": 21,
   "metadata": {},
   "outputs": [
    {
     "data": {
      "text/html": [
       "<div>\n",
       "<style scoped>\n",
       "    .dataframe tbody tr th:only-of-type {\n",
       "        vertical-align: middle;\n",
       "    }\n",
       "\n",
       "    .dataframe tbody tr th {\n",
       "        vertical-align: top;\n",
       "    }\n",
       "\n",
       "    .dataframe thead th {\n",
       "        text-align: right;\n",
       "    }\n",
       "</style>\n",
       "<table border=\"1\" class=\"dataframe\">\n",
       "  <thead>\n",
       "    <tr style=\"text-align: right;\">\n",
       "      <th></th>\n",
       "      <th>fl_date</th>\n",
       "      <th>mkt_unique_carrier</th>\n",
       "      <th>branded_code_share</th>\n",
       "      <th>mkt_carrier</th>\n",
       "      <th>mkt_carrier_fl_num</th>\n",
       "      <th>op_unique_carrier</th>\n",
       "      <th>tail_num</th>\n",
       "      <th>op_carrier_fl_num</th>\n",
       "      <th>origin_airport_id</th>\n",
       "      <th>origin</th>\n",
       "      <th>...</th>\n",
       "      <th>distance</th>\n",
       "      <th>carrier_delay</th>\n",
       "      <th>weather_delay</th>\n",
       "      <th>nas_delay</th>\n",
       "      <th>security_delay</th>\n",
       "      <th>late_aircraft_delay</th>\n",
       "      <th>first_dep_time</th>\n",
       "      <th>total_add_gtime</th>\n",
       "      <th>longest_add_gtime</th>\n",
       "      <th>no_name</th>\n",
       "    </tr>\n",
       "  </thead>\n",
       "  <tbody>\n",
       "    <tr>\n",
       "      <th>0</th>\n",
       "      <td>2019-12-25</td>\n",
       "      <td>AA</td>\n",
       "      <td>AA_CODESHARE</td>\n",
       "      <td>AA</td>\n",
       "      <td>4232</td>\n",
       "      <td>MQ</td>\n",
       "      <td>N822AE</td>\n",
       "      <td>4232</td>\n",
       "      <td>12478</td>\n",
       "      <td>JFK</td>\n",
       "      <td>...</td>\n",
       "      <td>427.0</td>\n",
       "      <td>NaN</td>\n",
       "      <td>NaN</td>\n",
       "      <td>NaN</td>\n",
       "      <td>NaN</td>\n",
       "      <td>NaN</td>\n",
       "      <td>None</td>\n",
       "      <td>NaN</td>\n",
       "      <td>NaN</td>\n",
       "      <td>None</td>\n",
       "    </tr>\n",
       "    <tr>\n",
       "      <th>1</th>\n",
       "      <td>2019-12-25</td>\n",
       "      <td>AA</td>\n",
       "      <td>AA_CODESHARE</td>\n",
       "      <td>AA</td>\n",
       "      <td>4233</td>\n",
       "      <td>MQ</td>\n",
       "      <td>N618AE</td>\n",
       "      <td>4233</td>\n",
       "      <td>12451</td>\n",
       "      <td>JAX</td>\n",
       "      <td>...</td>\n",
       "      <td>335.0</td>\n",
       "      <td>NaN</td>\n",
       "      <td>NaN</td>\n",
       "      <td>NaN</td>\n",
       "      <td>NaN</td>\n",
       "      <td>NaN</td>\n",
       "      <td>None</td>\n",
       "      <td>NaN</td>\n",
       "      <td>NaN</td>\n",
       "      <td>None</td>\n",
       "    </tr>\n",
       "    <tr>\n",
       "      <th>2</th>\n",
       "      <td>2019-12-25</td>\n",
       "      <td>AA</td>\n",
       "      <td>AA_CODESHARE</td>\n",
       "      <td>AA</td>\n",
       "      <td>4233</td>\n",
       "      <td>MQ</td>\n",
       "      <td>N618AE</td>\n",
       "      <td>4233</td>\n",
       "      <td>13303</td>\n",
       "      <td>MIA</td>\n",
       "      <td>...</td>\n",
       "      <td>335.0</td>\n",
       "      <td>NaN</td>\n",
       "      <td>NaN</td>\n",
       "      <td>NaN</td>\n",
       "      <td>NaN</td>\n",
       "      <td>NaN</td>\n",
       "      <td>None</td>\n",
       "      <td>NaN</td>\n",
       "      <td>NaN</td>\n",
       "      <td>None</td>\n",
       "    </tr>\n",
       "    <tr>\n",
       "      <th>3</th>\n",
       "      <td>2019-12-25</td>\n",
       "      <td>AA</td>\n",
       "      <td>AA_CODESHARE</td>\n",
       "      <td>AA</td>\n",
       "      <td>4234</td>\n",
       "      <td>MQ</td>\n",
       "      <td>N610AE</td>\n",
       "      <td>4234</td>\n",
       "      <td>12451</td>\n",
       "      <td>JAX</td>\n",
       "      <td>...</td>\n",
       "      <td>335.0</td>\n",
       "      <td>NaN</td>\n",
       "      <td>NaN</td>\n",
       "      <td>NaN</td>\n",
       "      <td>NaN</td>\n",
       "      <td>NaN</td>\n",
       "      <td>None</td>\n",
       "      <td>NaN</td>\n",
       "      <td>NaN</td>\n",
       "      <td>None</td>\n",
       "    </tr>\n",
       "    <tr>\n",
       "      <th>4</th>\n",
       "      <td>2019-12-25</td>\n",
       "      <td>AA</td>\n",
       "      <td>AA_CODESHARE</td>\n",
       "      <td>AA</td>\n",
       "      <td>4234</td>\n",
       "      <td>MQ</td>\n",
       "      <td>N610AE</td>\n",
       "      <td>4234</td>\n",
       "      <td>13303</td>\n",
       "      <td>MIA</td>\n",
       "      <td>...</td>\n",
       "      <td>335.0</td>\n",
       "      <td>NaN</td>\n",
       "      <td>NaN</td>\n",
       "      <td>NaN</td>\n",
       "      <td>NaN</td>\n",
       "      <td>NaN</td>\n",
       "      <td>None</td>\n",
       "      <td>NaN</td>\n",
       "      <td>NaN</td>\n",
       "      <td>None</td>\n",
       "    </tr>\n",
       "    <tr>\n",
       "      <th>...</th>\n",
       "      <td>...</td>\n",
       "      <td>...</td>\n",
       "      <td>...</td>\n",
       "      <td>...</td>\n",
       "      <td>...</td>\n",
       "      <td>...</td>\n",
       "      <td>...</td>\n",
       "      <td>...</td>\n",
       "      <td>...</td>\n",
       "      <td>...</td>\n",
       "      <td>...</td>\n",
       "      <td>...</td>\n",
       "      <td>...</td>\n",
       "      <td>...</td>\n",
       "      <td>...</td>\n",
       "      <td>...</td>\n",
       "      <td>...</td>\n",
       "      <td>...</td>\n",
       "      <td>...</td>\n",
       "      <td>...</td>\n",
       "      <td>...</td>\n",
       "    </tr>\n",
       "    <tr>\n",
       "      <th>1495</th>\n",
       "      <td>2019-12-25</td>\n",
       "      <td>AA</td>\n",
       "      <td>AA_CODESHARE</td>\n",
       "      <td>AA</td>\n",
       "      <td>3152</td>\n",
       "      <td>OO</td>\n",
       "      <td>N750SK</td>\n",
       "      <td>3152</td>\n",
       "      <td>12892</td>\n",
       "      <td>LAX</td>\n",
       "      <td>...</td>\n",
       "      <td>748.0</td>\n",
       "      <td>NaN</td>\n",
       "      <td>NaN</td>\n",
       "      <td>NaN</td>\n",
       "      <td>NaN</td>\n",
       "      <td>NaN</td>\n",
       "      <td>None</td>\n",
       "      <td>NaN</td>\n",
       "      <td>NaN</td>\n",
       "      <td>None</td>\n",
       "    </tr>\n",
       "    <tr>\n",
       "      <th>1496</th>\n",
       "      <td>2019-12-25</td>\n",
       "      <td>AA</td>\n",
       "      <td>AA_CODESHARE</td>\n",
       "      <td>AA</td>\n",
       "      <td>3156</td>\n",
       "      <td>OO</td>\n",
       "      <td>N758SK</td>\n",
       "      <td>3156</td>\n",
       "      <td>10372</td>\n",
       "      <td>ASE</td>\n",
       "      <td>...</td>\n",
       "      <td>1013.0</td>\n",
       "      <td>NaN</td>\n",
       "      <td>NaN</td>\n",
       "      <td>NaN</td>\n",
       "      <td>NaN</td>\n",
       "      <td>NaN</td>\n",
       "      <td>None</td>\n",
       "      <td>NaN</td>\n",
       "      <td>NaN</td>\n",
       "      <td>None</td>\n",
       "    </tr>\n",
       "    <tr>\n",
       "      <th>1497</th>\n",
       "      <td>2019-12-25</td>\n",
       "      <td>AA</td>\n",
       "      <td>AA_CODESHARE</td>\n",
       "      <td>AA</td>\n",
       "      <td>3156</td>\n",
       "      <td>OO</td>\n",
       "      <td>N758SK</td>\n",
       "      <td>3156</td>\n",
       "      <td>13930</td>\n",
       "      <td>ORD</td>\n",
       "      <td>...</td>\n",
       "      <td>1013.0</td>\n",
       "      <td>NaN</td>\n",
       "      <td>NaN</td>\n",
       "      <td>NaN</td>\n",
       "      <td>NaN</td>\n",
       "      <td>NaN</td>\n",
       "      <td>None</td>\n",
       "      <td>NaN</td>\n",
       "      <td>NaN</td>\n",
       "      <td>None</td>\n",
       "    </tr>\n",
       "    <tr>\n",
       "      <th>1498</th>\n",
       "      <td>2019-12-25</td>\n",
       "      <td>AA</td>\n",
       "      <td>AA_CODESHARE</td>\n",
       "      <td>AA</td>\n",
       "      <td>3159</td>\n",
       "      <td>OO</td>\n",
       "      <td>N753EV</td>\n",
       "      <td>3159</td>\n",
       "      <td>10140</td>\n",
       "      <td>ABQ</td>\n",
       "      <td>...</td>\n",
       "      <td>1118.0</td>\n",
       "      <td>NaN</td>\n",
       "      <td>NaN</td>\n",
       "      <td>NaN</td>\n",
       "      <td>NaN</td>\n",
       "      <td>NaN</td>\n",
       "      <td>None</td>\n",
       "      <td>NaN</td>\n",
       "      <td>NaN</td>\n",
       "      <td>None</td>\n",
       "    </tr>\n",
       "    <tr>\n",
       "      <th>1499</th>\n",
       "      <td>2019-12-25</td>\n",
       "      <td>AA</td>\n",
       "      <td>AA_CODESHARE</td>\n",
       "      <td>AA</td>\n",
       "      <td>3161</td>\n",
       "      <td>OO</td>\n",
       "      <td>N778SK</td>\n",
       "      <td>3161</td>\n",
       "      <td>10257</td>\n",
       "      <td>ALB</td>\n",
       "      <td>...</td>\n",
       "      <td>723.0</td>\n",
       "      <td>NaN</td>\n",
       "      <td>NaN</td>\n",
       "      <td>NaN</td>\n",
       "      <td>NaN</td>\n",
       "      <td>NaN</td>\n",
       "      <td>None</td>\n",
       "      <td>NaN</td>\n",
       "      <td>NaN</td>\n",
       "      <td>None</td>\n",
       "    </tr>\n",
       "  </tbody>\n",
       "</table>\n",
       "<p>1475 rows × 42 columns</p>\n",
       "</div>"
      ],
      "text/plain": [
       "         fl_date mkt_unique_carrier branded_code_share mkt_carrier  \\\n",
       "0     2019-12-25                 AA       AA_CODESHARE          AA   \n",
       "1     2019-12-25                 AA       AA_CODESHARE          AA   \n",
       "2     2019-12-25                 AA       AA_CODESHARE          AA   \n",
       "3     2019-12-25                 AA       AA_CODESHARE          AA   \n",
       "4     2019-12-25                 AA       AA_CODESHARE          AA   \n",
       "...          ...                ...                ...         ...   \n",
       "1495  2019-12-25                 AA       AA_CODESHARE          AA   \n",
       "1496  2019-12-25                 AA       AA_CODESHARE          AA   \n",
       "1497  2019-12-25                 AA       AA_CODESHARE          AA   \n",
       "1498  2019-12-25                 AA       AA_CODESHARE          AA   \n",
       "1499  2019-12-25                 AA       AA_CODESHARE          AA   \n",
       "\n",
       "      mkt_carrier_fl_num op_unique_carrier tail_num  op_carrier_fl_num  \\\n",
       "0                   4232                MQ   N822AE               4232   \n",
       "1                   4233                MQ   N618AE               4233   \n",
       "2                   4233                MQ   N618AE               4233   \n",
       "3                   4234                MQ   N610AE               4234   \n",
       "4                   4234                MQ   N610AE               4234   \n",
       "...                  ...               ...      ...                ...   \n",
       "1495                3152                OO   N750SK               3152   \n",
       "1496                3156                OO   N758SK               3156   \n",
       "1497                3156                OO   N758SK               3156   \n",
       "1498                3159                OO   N753EV               3159   \n",
       "1499                3161                OO   N778SK               3161   \n",
       "\n",
       "      origin_airport_id origin  ... distance  carrier_delay weather_delay  \\\n",
       "0                 12478    JFK  ...    427.0            NaN           NaN   \n",
       "1                 12451    JAX  ...    335.0            NaN           NaN   \n",
       "2                 13303    MIA  ...    335.0            NaN           NaN   \n",
       "3                 12451    JAX  ...    335.0            NaN           NaN   \n",
       "4                 13303    MIA  ...    335.0            NaN           NaN   \n",
       "...                 ...    ...  ...      ...            ...           ...   \n",
       "1495              12892    LAX  ...    748.0            NaN           NaN   \n",
       "1496              10372    ASE  ...   1013.0            NaN           NaN   \n",
       "1497              13930    ORD  ...   1013.0            NaN           NaN   \n",
       "1498              10140    ABQ  ...   1118.0            NaN           NaN   \n",
       "1499              10257    ALB  ...    723.0            NaN           NaN   \n",
       "\n",
       "     nas_delay  security_delay  late_aircraft_delay  first_dep_time  \\\n",
       "0          NaN             NaN                  NaN            None   \n",
       "1          NaN             NaN                  NaN            None   \n",
       "2          NaN             NaN                  NaN            None   \n",
       "3          NaN             NaN                  NaN            None   \n",
       "4          NaN             NaN                  NaN            None   \n",
       "...        ...             ...                  ...             ...   \n",
       "1495       NaN             NaN                  NaN            None   \n",
       "1496       NaN             NaN                  NaN            None   \n",
       "1497       NaN             NaN                  NaN            None   \n",
       "1498       NaN             NaN                  NaN            None   \n",
       "1499       NaN             NaN                  NaN            None   \n",
       "\n",
       "      total_add_gtime  longest_add_gtime  no_name  \n",
       "0                 NaN                NaN     None  \n",
       "1                 NaN                NaN     None  \n",
       "2                 NaN                NaN     None  \n",
       "3                 NaN                NaN     None  \n",
       "4                 NaN                NaN     None  \n",
       "...               ...                ...      ...  \n",
       "1495              NaN                NaN     None  \n",
       "1496              NaN                NaN     None  \n",
       "1497              NaN                NaN     None  \n",
       "1498              NaN                NaN     None  \n",
       "1499              NaN                NaN     None  \n",
       "\n",
       "[1475 rows x 42 columns]"
      ]
     },
     "execution_count": 21,
     "metadata": {},
     "output_type": "execute_result"
    }
   ],
   "source": [
    "df = pd.DataFrame(data, columns=columns)\n",
    "df.dropna(subset=['arr_delay'], inplace=True)\n",
    "df"
   ]
  },
  {
   "cell_type": "code",
   "execution_count": 22,
   "metadata": {},
   "outputs": [
    {
     "data": {
      "text/plain": [
       "fl_date                 object\n",
       "mkt_unique_carrier      object\n",
       "branded_code_share      object\n",
       "mkt_carrier             object\n",
       "mkt_carrier_fl_num       int64\n",
       "op_unique_carrier       object\n",
       "tail_num                object\n",
       "op_carrier_fl_num        int64\n",
       "origin_airport_id        int64\n",
       "origin                  object\n",
       "origin_city_name        object\n",
       "dest_airport_id          int64\n",
       "dest                    object\n",
       "dest_city_name          object\n",
       "crs_dep_time             int64\n",
       "dep_time               float64\n",
       "dep_delay              float64\n",
       "taxi_out               float64\n",
       "wheels_off             float64\n",
       "wheels_on              float64\n",
       "taxi_in                float64\n",
       "crs_arr_time             int64\n",
       "arr_time               float64\n",
       "arr_delay              float64\n",
       "cancelled              float64\n",
       "cancellation_code       object\n",
       "diverted               float64\n",
       "dup                     object\n",
       "crs_elapsed_time       float64\n",
       "actual_elapsed_time    float64\n",
       "air_time               float64\n",
       "flights                float64\n",
       "distance               float64\n",
       "carrier_delay          float64\n",
       "weather_delay          float64\n",
       "nas_delay              float64\n",
       "security_delay         float64\n",
       "late_aircraft_delay    float64\n",
       "first_dep_time          object\n",
       "total_add_gtime        float64\n",
       "longest_add_gtime      float64\n",
       "no_name                 object\n",
       "dtype: object"
      ]
     },
     "execution_count": 22,
     "metadata": {},
     "output_type": "execute_result"
    }
   ],
   "source": [
    "df.dtypes"
   ]
  },
  {
   "cell_type": "code",
   "execution_count": 34,
   "metadata": {},
   "outputs": [
    {
     "data": {
      "text/plain": [
       "519     180.0\n",
       "529     199.0\n",
       "530     175.0\n",
       "774     301.0\n",
       "1016    297.0\n",
       "1023    190.0\n",
       "1024    171.0\n",
       "1219    153.0\n",
       "1302    294.0\n",
       "1330    286.0\n",
       "1388    901.0\n",
       "Name: arr_delay, dtype: float64"
      ]
     },
     "execution_count": 34,
     "metadata": {},
     "output_type": "execute_result"
    }
   ],
   "source": [
    "df['arr_delay'][df['arr_delay']> 150]"
   ]
  },
  {
   "cell_type": "markdown",
   "metadata": {},
   "source": [
    "#### **Task 1**: Test the hypothesis that the delay is from Normal distribution. and that **mean** of the delay is 0. Be careful about the outliers."
   ]
  },
  {
   "cell_type": "code",
   "execution_count": 9,
   "metadata": {},
   "outputs": [
    {
     "name": "stderr",
     "output_type": "stream",
     "text": [
      "C:\\Users\\richl\\anaconda3\\envs\\lighthouse\\lib\\site-packages\\seaborn\\distributions.py:2619: FutureWarning: `distplot` is a deprecated function and will be removed in a future version. Please adapt your code to use either `displot` (a figure-level function with similar flexibility) or `histplot` (an axes-level function for histograms).\n",
      "  warnings.warn(msg, FutureWarning)\n"
     ]
    },
    {
     "data": {
      "text/plain": [
       "<AxesSubplot:xlabel='arr_delay', ylabel='Density'>"
      ]
     },
     "execution_count": 9,
     "metadata": {},
     "output_type": "execute_result"
    },
    {
     "data": {
      "image/png": "[encoded data removed]",
      "text/plain": [
       "<Figure size 432x288 with 1 Axes>"
      ]
     },
     "metadata": {
      "needs_background": "light"
     },
     "output_type": "display_data"
    }
   ],
   "source": [
    "sns.distplot(df['arr_delay'])"
   ]
  },
  {
   "cell_type": "code",
   "execution_count": 36,
   "metadata": {},
   "outputs": [
    {
     "data": {
      "text/plain": [
       "(0.7910046577453613, 8.986064623221825e-40)"
      ]
     },
     "execution_count": 36,
     "metadata": {},
     "output_type": "execute_result"
    }
   ],
   "source": [
    "stat,p = stats.shapiro(df['arr_delay'][df['arr_delay'] < 150])\n",
    "stat, p"
   ]
  },
  {
   "cell_type": "code",
   "execution_count": 42,
   "metadata": {},
   "outputs": [
    {
     "data": {
      "text/plain": [
       "-12.509604519774012"
      ]
     },
     "execution_count": 42,
     "metadata": {},
     "output_type": "execute_result"
    }
   ],
   "source": [
    "stats.trim_mean(df['arr_delay'], 0.20)"
   ]
  },
  {
   "cell_type": "markdown",
   "metadata": {},
   "source": [
    "### ^^^ The Distribution is not normal (without outliers)"
   ]
  },
  {
   "cell_type": "markdown",
   "metadata": {},
   "source": [
    "#### **Task 2**: Is average/median monthly delay different during the year? If yes, which are months with the biggest delays and what could be the reason?"
   ]
  },
  {
   "cell_type": "code",
   "execution_count": 43,
   "metadata": {
    "tags": []
   },
   "outputs": [
    {
     "name": "stdout",
     "output_type": "stream",
     "text": [
      "Connection was successful\n"
     ]
    }
   ],
   "source": [
    "connection,cursor = open_connection(params)\n",
    "print('working...')\n",
    "\n",
    "months = []\n",
    "i='00'\n",
    "for mon in range(1,13):\n",
    "    if mon < 10:\n",
    "        i = '0' + str(mon)\n",
    "    else:\n",
    "        i = str(mon)\n",
    "    query = f'''\n",
    "    SELECT arr_delay FROM flights \n",
    "    WHERE fl_date LIKE '____-{i}%'\n",
    "    ORDER BY random()\n",
    "    LIMIT 300;\n",
    "    '''\n",
    "    cursor.execute(query)\n",
    "    data = cursor.fetchall()\n",
    "    data = [i[0] for i in data] # unpack the response tuples\n",
    "    month = pd.Series(data)\n",
    "    months.append(pd.DataFrame(month))\n",
    "    \n",
    "connection.close()\n",
    "print(\"Connection closed, operation completed\")"
   ]
  },
  {
   "cell_type": "code",
   "execution_count": 45,
   "metadata": {},
   "outputs": [
    {
     "name": "stderr",
     "output_type": "stream",
     "text": [
      "C:\\Users\\richl\\anaconda3\\envs\\lighthouse\\lib\\site-packages\\seaborn\\distributions.py:2619: FutureWarning: `distplot` is a deprecated function and will be removed in a future version. Please adapt your code to use either `displot` (a figure-level function with similar flexibility) or `histplot` (an axes-level function for histograms).\n",
      "  warnings.warn(msg, FutureWarning)\n"
     ]
    },
    {
     "data": {
      "text/plain": [
       "<AxesSubplot:ylabel='Density'>"
      ]
     },
     "execution_count": 45,
     "metadata": {},
     "output_type": "execute_result"
    },
    {
     "data": {
      "image/png": "[encoded data removed]",
      "text/plain": [
       "<Figure size 432x288 with 1 Axes>"
      ]
     },
     "metadata": {
      "needs_background": "light"
     },
     "output_type": "display_data"
    }
   ],
   "source": [
    "sns.distplot(months[1])"
   ]
  },
  {
   "cell_type": "code",
   "execution_count": 54,
   "metadata": {
    "tags": []
   },
   "outputs": [
    {
     "name": "stdout",
     "output_type": "stream",
     "text": [
      "month 0 mean: -5.066666666666666\n",
      "month 1 mean: -2.6444444444444444\n",
      "month 2 mean: -4.605555555555555\n",
      "month 3 mean: -4.955555555555556\n",
      "month 4 mean: -3.438888888888889\n",
      "month 5 mean: -1.4944444444444445\n",
      "month 6 mean: -0.17222222222222222\n",
      "month 7 mean: -1.1888888888888889\n",
      "month 8 mean: -7.911111111111111\n",
      "month 9 mean: -4.477777777777778\n",
      "month 10 mean: -5.5055555555555555\n",
      "month 11 mean: -3.8944444444444444\n",
      "month 0 median -6.0\n",
      "month 1 median -4.0\n",
      "month 2 median -6.0\n",
      "month 3 median -7.0\n",
      "month 4 median -5.0\n",
      "month 5 median -3.0\n",
      "month 6 median -2.5\n",
      "month 7 median -4.0\n",
      "month 8 median -9.5\n",
      "month 9 median -6.0\n",
      "month 10 median -6.0\n",
      "month 11 median -6.0\n"
     ]
    }
   ],
   "source": [
    "for i in range(12):\n",
    "    print('month', i, 'mean:', *stats.trim_mean(months[i], 0.20))\n",
    "    \n",
    "for i in range(12):\n",
    "    print('month', i, 'median', np.median(stats.trimboth(months[i], 0.20)))"
   ]
  },
  {
   "cell_type": "markdown",
   "metadata": {
    "tags": []
   },
   "source": [
    "#### **Task 3**: Does the weather affect the delay? \n",
    "Use the API to pull the weather information for flights. There is no need to get weather for ALL flights. We can choose the right representative sample. Let's focus on four weather types:\n",
    "- sunny\n",
    "- cloudy\n",
    "- rainy\n",
    "- snow.\n",
    "Test the hypothesis that these 4 delays are from the same distribution. If they are not, which ones are significantly different?"
   ]
  },
  {
   "cell_type": "code",
   "execution_count": 3,
   "metadata": {},
   "outputs": [],
   "source": [
    "import os\n",
    "API_key = os.environ.get('WWO_API_key')"
   ]
  },
  {
   "cell_type": "code",
   "execution_count": null,
   "metadata": {},
   "outputs": [],
   "source": []
  },
  {
   "cell_type": "code",
   "execution_count": null,
   "metadata": {},
   "outputs": [],
   "source": []
  },
  {
   "cell_type": "markdown",
   "metadata": {},
   "source": [
    "#### **Task 4**: How taxi times changing during the day? Does higher traffic lead to bigger taxi times?"
   ]
  },
  {
   "cell_type": "code",
   "execution_count": null,
   "metadata": {},
   "outputs": [],
   "source": []
  },
  {
   "cell_type": "code",
   "execution_count": null,
   "metadata": {},
   "outputs": [],
   "source": []
  },
  {
   "cell_type": "markdown",
   "metadata": {},
   "source": [
    "#### **Task 5**: What is the average percentage of delays that is already created before departure? (aka are arrival delays caused by departure delays?) Are airlines able to lower the delay during the flights?"
   ]
  },
  {
   "cell_type": "code",
   "execution_count": null,
   "metadata": {},
   "outputs": [],
   "source": []
  },
  {
   "cell_type": "code",
   "execution_count": null,
   "metadata": {},
   "outputs": [],
   "source": []
  },
  {
   "cell_type": "markdown",
   "metadata": {},
   "source": [
    "#### **Task 6**: How many states cover 50% of US air traffic? "
   ]
  },
  {
   "cell_type": "code",
   "execution_count": null,
   "metadata": {},
   "outputs": [],
   "source": []
  },
  {
   "cell_type": "code",
   "execution_count": null,
   "metadata": {},
   "outputs": [],
   "source": []
  },
  {
   "cell_type": "markdown",
   "metadata": {},
   "source": [
    "#### **Task 7**: Test the hypothesis whether planes fly faster when there is the departure delay? "
   ]
  },
  {
   "cell_type": "code",
   "execution_count": null,
   "metadata": {},
   "outputs": [],
   "source": []
  },
  {
   "cell_type": "code",
   "execution_count": null,
   "metadata": {},
   "outputs": [],
   "source": []
  },
  {
   "cell_type": "markdown",
   "metadata": {},
   "source": [
    "#### **Task 8**: When (which hour) do most 'LONG', 'SHORT', 'MEDIUM' haul flights take off?"
   ]
  },
  {
   "cell_type": "code",
   "execution_count": null,
   "metadata": {},
   "outputs": [],
   "source": []
  },
  {
   "cell_type": "code",
   "execution_count": null,
   "metadata": {},
   "outputs": [],
   "source": []
  },
  {
   "cell_type": "markdown",
   "metadata": {},
   "source": [
    "#### **Task 9**: Find the top 10 the bussiest airports. Does the biggest number of flights mean that the biggest number of passengers went through the particular airport? How much traffic do these 10 airports cover?"
   ]
  },
  {
   "cell_type": "code",
   "execution_count": null,
   "metadata": {},
   "outputs": [],
   "source": []
  },
  {
   "cell_type": "code",
   "execution_count": null,
   "metadata": {},
   "outputs": [],
   "source": []
  },
  {
   "cell_type": "markdown",
   "metadata": {},
   "source": [
    "#### **Task 10**: Do bigger delays lead to bigger fuel comsumption per passenger? \n",
    "We need to do four things to answer this as accurate as possible:\n",
    "- Find out average monthly delay per air carrier (monthly delay is sum of all delays in 1 month)\n",
    "- Find out distance covered monthly by different air carriers\n",
    "- Find out number of passengers that were carried by different air carriers\n",
    "- Find out total fuel comsumption per air carrier.\n",
    "\n",
    "Use this information to get the average fuel comsumption per passenger per km. Is this higher for the airlines with bigger average delays?"
   ]
  },
  {
   "cell_type": "code",
   "execution_count": null,
   "metadata": {},
   "outputs": [],
   "source": []
  },
  {
   "cell_type": "code",
   "execution_count": null,
   "metadata": {},
   "outputs": [],
   "source": []
  }
 ],
 "metadata": {
  "kernelspec": {
   "display_name": "lighthouse",
   "language": "python",
   "name": "lighthouse"
  },
  "language_info": {
   "codemirror_mode": {
    "name": "ipython",
    "version": 3
   },
   "file_extension": ".py",
   "mimetype": "text/x-python",
   "name": "python",
   "nbconvert_exporter": "python",
   "pygments_lexer": "ipython3",
   "version": "3.7.11"
  },
  "toc": {
   "base_numbering": 1,
   "nav_menu": {},
   "number_sections": true,
   "sideBar": true,
   "skip_h1_title": false,
   "title_cell": "Table of Contents",
   "title_sidebar": "Contents",
   "toc_cell": false,
   "toc_position": {},
   "toc_section_display": true,
   "toc_window_display": false
  },
  "varInspector": {
   "cols": {
    "lenName": 16,
    "lenType": 16,
    "lenVar": 40
   },
   "kernels_config": {
    "python": {
     "delete_cmd_postfix": "",
     "delete_cmd_prefix": "del ",
     "library": "var_list.py",
     "varRefreshCmd": "print(var_dic_list())"
    },
    "r": {
     "delete_cmd_postfix": ") ",
     "delete_cmd_prefix": "rm(",
     "library": "var_list.r",
     "varRefreshCmd": "cat(var_dic_list()) "
    }
   },
   "types_to_exclude": [
    "module",
    "function",
    "builtin_function_or_method",
    "instance",
    "_Feature"
   ],
   "window_display": false
  }
 },
 "nbformat": 4,
 "nbformat_minor": 4
}
